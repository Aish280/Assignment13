{
 "cells": [
  {
   "cell_type": "code",
   "execution_count": 2,
   "metadata": {},
   "outputs": [
    {
     "name": "stdout",
     "output_type": "stream",
     "text": [
      "Dictionary with the use of Mixed Keys: \n",
      "{'Name': 'Geeks', 1: [1, 2, 3, 4]}\n"
     ]
    }
   ],
   "source": [
    "# 1&2)what is dictionary in python?explain with example\n",
    " Dictionaries are another example of a data structure.\n",
    " A dictionary is used to map or associate things you want to store the keys you need to get them.\n",
    " A dictionary in Python is just like a dictionary in the real world. \n",
    " Python Dictionary are defined into two elements Keys and Values.\n",
    " Values can be a list or list within a list, numbers, etc.\n",
    "#example:\n",
    "Dict = {'Name': 'Geeks', 1: [1, 2, 3, 4]} \n",
    "print(\"Dictionary with the use of Mixed Keys: \") \n",
    "print(Dict) "
   ]
  },
  {
   "cell_type": "code",
   "execution_count": 3,
   "metadata": {},
   "outputs": [
    {
     "name": "stdout",
     "output_type": "stream",
     "text": [
      "Sum of all elements in given list:  74\n"
     ]
    }
   ],
   "source": [
    "# 3)python program to sum all the items in a list\n",
    "total = 0\n",
    "list1 = [11, 5, 17, 18, 23]   \n",
    "for ele in range(0, len(list1)): \n",
    "    total = total + list1[ele] \n",
    "print(\"Sum of all elements in given list: \", total) "
   ]
  },
  {
   "cell_type": "code",
   "execution_count": 4,
   "metadata": {},
   "outputs": [
    {
     "name": "stdout",
     "output_type": "stream",
     "text": [
      "[{}, {}, {}, {}, {}]\n"
     ]
    }
   ],
   "source": [
    "# 4)python program to create a list of empty dictionaries\n",
    "n = 5\n",
    "l = [{} for _ in range(n)]\n",
    "print(l)"
   ]
  },
  {
   "cell_type": "code",
   "execution_count": 5,
   "metadata": {},
   "outputs": [
    {
     "name": "stdout",
     "output_type": "stream",
     "text": [
      "math\n"
     ]
    }
   ],
   "source": [
    "# 5)Python program to access dictionary keys element by index\n",
    "num = {'physics': 80, 'math': 90, 'chemistry': 86}\n",
    "print(list(num)[1])"
   ]
  },
  {
   "cell_type": "code",
   "execution_count": 6,
   "metadata": {},
   "outputs": [
    {
     "name": "stdout",
     "output_type": "stream",
     "text": [
      "('name', 'Ravi')\n",
      "('age', 23)\n",
      "('marks', 56)\n"
     ]
    }
   ],
   "source": [
    "# 6)python program to iterate over dictionaries using for loops\n",
    "d1={'name': 'Ravi', 'age': 23, 'marks': 56}\n",
    "for t in d1.items():\n",
    "  print(t)"
   ]
  },
  {
   "cell_type": "code",
   "execution_count": 7,
   "metadata": {},
   "outputs": [
    {
     "name": "stdout",
     "output_type": "stream",
     "text": [
      "293\n"
     ]
    }
   ],
   "source": [
    "# 7)python program to sum all the items in a dictionary\n",
    "my_dict = {'data1':100,'data2':-54,'data3':247}\n",
    "print(sum(my_dict.values()))"
   ]
  },
  {
   "cell_type": "code",
   "execution_count": 8,
   "metadata": {},
   "outputs": [
    {
     "name": "stdout",
     "output_type": "stream",
     "text": [
      "{1: 10, 2: 20, 3: 30, 4: 40, 5: 50, 6: 60}\n"
     ]
    }
   ],
   "source": [
    "# 8&9)Python program to concatenate dictionaries to create a new one.\n",
    "dic1={1:10, 2:20}\n",
    "dic2={3:30, 4:40}\n",
    "dic3={5:50,6:60}\n",
    "dic4 = {}\n",
    "for d in (dic1, dic2, dic3): dic4.update(d)\n",
    "print(dic4)"
   ]
  },
  {
   "cell_type": "code",
   "execution_count": 9,
   "metadata": {},
   "outputs": [
    {
     "name": "stdout",
     "output_type": "stream",
     "text": [
      "(1, 2, 3)\n"
     ]
    }
   ],
   "source": [
    "# 10)python program to create a tuple\n",
    "tuple1=(1,2,3)\n",
    "print(tuple1)"
   ]
  },
  {
   "cell_type": "code",
   "execution_count": 10,
   "metadata": {},
   "outputs": [
    {
     "name": "stdout",
     "output_type": "stream",
     "text": [
      "('tuple', False, 3.2, 1)\n"
     ]
    }
   ],
   "source": [
    "# 11)python program to create a tuple with different data types\n",
    "tuple=(\"tuple\", False, 3.2, 1)\n",
    "print(tuple)"
   ]
  },
  {
   "cell_type": "code",
   "execution_count": 11,
   "metadata": {},
   "outputs": [
    {
     "name": "stdout",
     "output_type": "stream",
     "text": [
      "exercises\n"
     ]
    }
   ],
   "source": [
    "# 12)Python program to convert a tuple to a string.\n",
    "tuple=('e', 'x', 'e', 'r', 'c', 'i', 's', 'e', 's')\n",
    "str=''.join(tuple)\n",
    "print(str)"
   ]
  },
  {
   "cell_type": "code",
   "execution_count": 12,
   "metadata": {},
   "outputs": [
    {
     "name": "stdout",
     "output_type": "stream",
     "text": [
      "(5, 4)\n",
      "(2, 4, 3, 5, 4, 6)\n",
      "(6, 7, 8, 6, 1)\n"
     ]
    }
   ],
   "source": [
    "# 13)python program to slice a tuple\n",
    "tuplex = (2, 4, 3, 5, 4, 6, 7, 8, 6, 1)\n",
    "slice = tuplex[3:5]\n",
    "print(slice)\n",
    "slice = tuplex[:6]\n",
    "print(slice)\n",
    "slice = tuplex[5:]\n",
    "print(slice)"
   ]
  },
  {
   "cell_type": "code",
   "execution_count": 13,
   "metadata": {},
   "outputs": [
    {
     "name": "stdout",
     "output_type": "stream",
     "text": [
      "5\n"
     ]
    }
   ],
   "source": [
    "# 14)python program to find the length of a tuple\n",
    "tuple1=(1,2,4,6,7)\n",
    "print(len(tuple1))"
   ]
  },
  {
   "cell_type": "code",
   "execution_count": 14,
   "metadata": {},
   "outputs": [
    {
     "name": "stdout",
     "output_type": "stream",
     "text": [
      "{'w': 2, 'r': 3}\n"
     ]
    }
   ],
   "source": [
    "# 15)python program to convert a tuple to a dictionary\n",
    "tuplex = ((2, \"w\"),(3, \"r\"))\n",
    "print(dict((y, x) for x, y in tuplex))"
   ]
  },
  {
   "cell_type": "code",
   "execution_count": 15,
   "metadata": {},
   "outputs": [
    {
     "name": "stdout",
     "output_type": "stream",
     "text": [
      "StudyTonight\n",
      "9.56\n",
      "3.78\n",
      "2\n",
      "1\n"
     ]
    }
   ],
   "source": [
    "# 16)python program to reverse a tuple\n",
    "my_tuple = (1,2,3.78,9.56,\"StudyTonight\")\n",
    "def reverse_enum(my_tuple):\n",
    "   for index in reversed(range(len(my_tuple))):\n",
    "      yield my_tuple[index]\n",
    "for item in reverse_enum(my_tuple):\n",
    "   print(item)"
   ]
  },
  {
   "cell_type": "code",
   "execution_count": 16,
   "metadata": {},
   "outputs": [
    {
     "name": "stdout",
     "output_type": "stream",
     "text": [
      "{'x': [1, 2, 3], 'y': [1, 2], 'z': [1]}\n"
     ]
    }
   ],
   "source": [
    "# 17)python program to convert a list of tuples into a dictionary\n",
    "l = [(\"x\", 1), (\"x\", 2), (\"x\", 3), (\"y\", 1), (\"y\", 2), (\"z\", 1)]\n",
    "d = {}\n",
    "for a, b in l:\n",
    "    d.setdefault(a, []).append(b)\n",
    "print (d)"
   ]
  },
  {
   "cell_type": "code",
   "execution_count": 18,
   "metadata": {},
   "outputs": [
    {
     "name": "stdout",
     "output_type": "stream",
     "text": [
      "[5, 10, 7, 4, 15, 3]\n",
      "[5, 10, 7, 4, 15, 3]\n"
     ]
    }
   ],
   "source": [
    "# 18)python program to convert a list to a tuple\n",
    "listx = [5,10,7,4,15,3]\n",
    "print(listx)\n",
    "tuplex =tuple(listx)\n",
    "print(tuplex)"
   ]
  }
 ],
 "metadata": {
  "kernelspec": {
   "display_name": "Python 3",
   "language": "python",
   "name": "python3"
  },
  "language_info": {
   "codemirror_mode": {
    "name": "ipython",
    "version": 3
   },
   "file_extension": ".py",
   "mimetype": "text/x-python",
   "name": "python",
   "nbconvert_exporter": "python",
   "pygments_lexer": "ipython3",
   "version": "3.8.3"
  }
 },
 "nbformat": 4,
 "nbformat_minor": 4
}
